{
  "cells": [
    {
      "cell_type": "markdown",
      "metadata": {
        "id": "view-in-github",
        "colab_type": "text"
      },
      "source": [
        "<a href=\"https://colab.research.google.com/github/MariaAyub343/Lab_Tasks/blob/main/lab2.ipynb\" target=\"_parent\"><img src=\"https://colab.research.google.com/assets/colab-badge.svg\" alt=\"Open In Colab\"/></a>"
      ]
    },
    {
      "cell_type": "code",
      "execution_count": null,
      "metadata": {
        "colab": {
          "base_uri": "https://localhost:8080/"
        },
        "id": "FAzjBtfpKntY",
        "outputId": "df0603df-7b07-4ff3-8cbd-a2d5e77efacb"
      },
      "outputs": [
        {
          "name": "stdout",
          "output_type": "stream",
          "text": [
            "Student Record System\n",
            "Enter student ID (or type 'stop' to finish): 1\n",
            "Enter student name: Maria\n",
            "Enter student residential city: Islamabad\n",
            "Enter student ID (or type 'stop' to finish): 2\n",
            "Enter student name: Qaiser \n",
            "Enter student residential city: Islamabad \n",
            "Enter student ID (or type 'stop' to finish): stop\n",
            "Enter student ID to query (or type 'exit' to quit): 1\n",
            "Name: Maria, City: Islamabad\n",
            "Enter student ID to query (or type 'exit' to quit): 2\n",
            "Name: Qaiser , City: Islamabad \n",
            "Enter student ID to query (or type 'exit' to quit): exit\n"
          ]
        }
      ],
      "source": [
        "# Function to collect student information\n",
        "def collect_student_info():\n",
        "    student_ids = []\n",
        "    names = []\n",
        "    cities = []\n",
        "\n",
        "    while True:\n",
        "        student_id = input(\"Enter student ID (or type 'stop' to finish): \")\n",
        "        if student_id.lower() == 'stop':\n",
        "            break\n",
        "        name = input(\"Enter student name: \")\n",
        "        city = input(\"Enter student residential city: \")\n",
        "\n",
        "        student_ids.append(student_id)\n",
        "        names.append(name)\n",
        "        cities.append(city)\n",
        "\n",
        "    return student_ids, names, cities\n",
        "\n",
        "# Function to create the dictionary from lists\n",
        "def create_student_dict(student_ids, names, cities):\n",
        "    student_dict = {}\n",
        "    for i in range(len(student_ids)):\n",
        "        student_dict[student_ids[i]] = [names[i], cities[i]]\n",
        "    return student_dict\n",
        "\n",
        "# Function to query the student dictionary\n",
        "def query_student(student_dict):\n",
        "    while True:\n",
        "        query_id = input(\"Enter student ID to query (or type 'exit' to quit): \")\n",
        "        if query_id.lower() == 'exit':\n",
        "            break\n",
        "        if query_id in student_dict:\n",
        "            name, city = student_dict[query_id]\n",
        "            print(f\"Name: {name}, City: {city}\")\n",
        "        else:\n",
        "            print(\"Student ID not found.\")\n",
        "\n",
        "# Main function to run the script\n",
        "def main():\n",
        "    print(\"Student Record System\")\n",
        "\n",
        "    # Collect student information\n",
        "    student_ids, names, cities = collect_student_info()\n",
        "\n",
        "    # Create dictionary from collected information\n",
        "    student_dict = create_student_dict(student_ids, names, cities)\n",
        "\n",
        "    # Query the student dictionary\n",
        "    query_student(student_dict)\n",
        "\n",
        "if __name__ == \"__main__\":\n",
        "    main()\n"
      ]
    }
  ],
  "metadata": {
    "colab": {
      "provenance": [],
      "include_colab_link": true
    },
    "kernelspec": {
      "display_name": "Python 3",
      "name": "python3"
    },
    "language_info": {
      "name": "python"
    }
  },
  "nbformat": 4,
  "nbformat_minor": 0
}
