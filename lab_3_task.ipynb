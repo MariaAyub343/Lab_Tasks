{
  "nbformat": 4,
  "nbformat_minor": 0,
  "metadata": {
    "colab": {
      "provenance": [],
      "include_colab_link": true
    },
    "kernelspec": {
      "name": "python3",
      "display_name": "Python 3"
    },
    "language_info": {
      "name": "python"
    }
  },
  "cells": [
    {
      "cell_type": "markdown",
      "metadata": {
        "id": "view-in-github",
        "colab_type": "text"
      },
      "source": [
        "<a href=\"https://colab.research.google.com/github/MariaAyub343/Lab_Tasks/blob/main/lab4.ipynb\" target=\"_parent\"><img src=\"https://colab.research.google.com/assets/colab-badge.svg\" alt=\"Open In Colab\"/></a>"
      ]
    },
    {
      "cell_type": "code",
      "execution_count": null,
      "metadata": {
        "colab": {
          "base_uri": "https://localhost:8080/"
        },
        "id": "dFSn3s8C7aVG",
        "outputId": "5cc8fa65-b3df-4486-aa29-595aaef551f3"
      },
      "outputs": [
        {
          "output_type": "stream",
          "name": "stdout",
          "text": [
            "Current: ['Arad', 0, 366]\n",
            "Close: [['Arad', 0, 366]]\n",
            "Updated open before sorting: [['Zerind', 75, 374], ['Timisoara', 118, 329], ['Sibiu', 140, 253]]\n",
            "Sorted open: [['Sibiu', 140, 253], ['Timisoara', 118, 329], ['Zerind', 75, 374]]\n",
            "Current: ['Sibiu', 140, 253]\n",
            "Close: [['Arad', 0, 366], ['Sibiu', 140, 253]]\n",
            "Updated open before sorting: [['Timisoara', 118, 329], ['Zerind', 75, 374], ['Rimniciu Vilcea', 220, 193], ['Fagaras', 239, 176], ['Oradea', 291, 380]]\n",
            "Sorted open: [['Rimniciu Vilcea', 220, 193], ['Fagaras', 239, 176], ['Timisoara', 118, 329], ['Zerind', 75, 374], ['Oradea', 291, 380]]\n",
            "Current: ['Rimniciu Vilcea', 220, 193]\n",
            "Close: [['Arad', 0, 366], ['Sibiu', 140, 253], ['Rimniciu Vilcea', 220, 193]]\n",
            "Updated open before sorting: [['Fagaras', 239, 176], ['Timisoara', 118, 329], ['Zerind', 75, 374], ['Oradea', 291, 380], ['Pitesti', 317, 100], ['Craiova', 366, 160]]\n",
            "Sorted open: [['Fagaras', 239, 176], ['Pitesti', 317, 100], ['Timisoara', 118, 329], ['Zerind', 75, 374], ['Craiova', 366, 160], ['Oradea', 291, 380]]\n",
            "Current: ['Fagaras', 239, 176]\n",
            "Close: [['Arad', 0, 366], ['Sibiu', 140, 253], ['Rimniciu Vilcea', 220, 193], ['Fagaras', 239, 176]]\n",
            "Updated open before sorting: [['Pitesti', 317, 100], ['Timisoara', 118, 329], ['Zerind', 75, 374], ['Craiova', 366, 160], ['Oradea', 291, 380], ['Bucharest', 450, 0]]\n",
            "Sorted open: [['Pitesti', 317, 100], ['Timisoara', 118, 329], ['Zerind', 75, 374], ['Bucharest', 450, 0], ['Craiova', 366, 160], ['Oradea', 291, 380]]\n",
            "Current: ['Pitesti', 317, 100]\n",
            "Close: [['Arad', 0, 366], ['Sibiu', 140, 253], ['Rimniciu Vilcea', 220, 193], ['Fagaras', 239, 176], ['Pitesti', 317, 100]]\n",
            "Updated open before sorting: [['Timisoara', 118, 329], ['Zerind', 75, 374], ['Bucharest', 450, 0], ['Craiova', 366, 160], ['Oradea', 291, 380]]\n",
            "Sorted open: [['Timisoara', 118, 329], ['Zerind', 75, 374], ['Bucharest', 450, 0], ['Craiova', 366, 160], ['Oradea', 291, 380]]\n",
            "Current: ['Timisoara', 118, 329]\n",
            "Close: [['Arad', 0, 366], ['Sibiu', 140, 253], ['Rimniciu Vilcea', 220, 193], ['Fagaras', 239, 176], ['Pitesti', 317, 100], ['Timisoara', 118, 329]]\n",
            "Updated open before sorting: [['Zerind', 75, 374], ['Bucharest', 450, 0], ['Craiova', 366, 160], ['Oradea', 291, 380], ['Lugoj', 229, 244]]\n",
            "Sorted open: [['Zerind', 75, 374], ['Bucharest', 450, 0], ['Lugoj', 229, 244], ['Craiova', 366, 160], ['Oradea', 291, 380]]\n",
            "Current: ['Zerind', 75, 374]\n",
            "Close: [['Arad', 0, 366], ['Sibiu', 140, 253], ['Rimniciu Vilcea', 220, 193], ['Fagaras', 239, 176], ['Pitesti', 317, 100], ['Timisoara', 118, 329], ['Zerind', 75, 374]]\n",
            "Updated open before sorting: [['Bucharest', 450, 0], ['Lugoj', 229, 244], ['Craiova', 366, 160], ['Oradea', 291, 380]]\n",
            "Sorted open: [['Bucharest', 450, 0], ['Lugoj', 229, 244], ['Craiova', 366, 160], ['Oradea', 291, 380]]\n",
            "Current: ['Bucharest', 450, 0]\n",
            "Close: [['Arad', 0, 366], ['Sibiu', 140, 253], ['Rimniciu Vilcea', 220, 193], ['Fagaras', 239, 176], ['Pitesti', 317, 100], ['Timisoara', 118, 329], ['Zerind', 75, 374], ['Bucharest', 450, 0]]\n",
            "['Arad', 'Sibiu', 'Rimniciu Vilcea', 'Fagaras', 'Pitesti', 'Timisoara', 'Zerind', 'Bucharest']\n"
          ]
        }
      ],
      "source": [
        "\n",
        "from operator import itemgetter\n",
        "\n",
        "graph = {'Arad': [['Zerind', 75, 374], ['Timisoara', 118, 329], ['Sibiu', 140, 253]],\n",
        "         'Zerind': [['Oradea', 71, 380], ['Arad', 75, 366]],\n",
        "         'Oradea': [['Zerind', 71, 374], ['Sibiu', 151, 253]],\n",
        "         'Sibiu': [['Rimniciu Vilcea', 80, 193], ['Fagaras', 99, 176], ['Arad', 140, 366], ['Oradea', 151, 380]],\n",
        "         'Fagaras': [['Sibiu', 99, 253], ['Bucharest', 211, 0]],\n",
        "         'Rimniciu Vilcea': [['Pitesti', 97, 100], ['Craiova', 146, 160], ['Sibiu', 80, 253]],\n",
        "         'Timisoara': [['Lugoj', 111, 244], ['Arad', 118, 366]],\n",
        "         'Lugoj': [['Mehadia', 70, 241], ['Timisoara', 111, 329]],\n",
        "         'Mehadia': [['Lugoj', 70, 244], ['Dobreta', 75, 242]],\n",
        "         'Dobreta': [['Mehadia', 75, 241], ['Craiova', 120, 160]],\n",
        "         'Pitesti': [['Craiova', 138, 160], ['Bucharest', 101, 0]],\n",
        "         'Craiova': [['Pitesti', 138, 100], ['Dobreta', 120, 242], ['Rimniciu Vilcea', 146, 193]],\n",
        "         'Bucharest': [['Giurgiu', 90, 77], ['Urziceni', 85, 80], ['Fagaras', 211, 176], ['Pitesti', 101, 100]],\n",
        "         'Giurgiu': [['Bucharest', 90, 0]],\n",
        "         'Urziceni': [['Vaslui', 142, 199], ['Hirsova', 98, 151], ['Bucharest', 85, 0]],\n",
        "         'Vaslui': [['Lasi', 92, 226], ['Urziceni', 142, 80]],\n",
        "         'Lasi': [['Neamt', 87, 234], ['Vaslui', 92, 199]],\n",
        "         'Neamt': [['Lasi', 87, 226]],\n",
        "         'Hirsova': [['Eforie', 86, 161], ['Urziceni', 98, 80]],\n",
        "         'Eforie': [['Hirsova', 86, 151]], }\n",
        "\n",
        "def astarik_traversal(graph, start, goal):\n",
        "    open = [start]\n",
        "    close = []\n",
        "\n",
        "    while open:\n",
        "        current = open.pop(0)\n",
        "        print('Current:', current)\n",
        "        # Add current to close\n",
        "        if current not in close:\n",
        "            close.append(current)\n",
        "            print('Close:', close)\n",
        "        # Check if goal has been reached\n",
        "        if current[0] == goal:\n",
        "            break\n",
        "        # Use list comprehension to add neighbors to open if not in open or close\n",
        "        open = open + [[node[0], current[1] + node[1], node[2]] for node in graph[current[0]]\n",
        "                 if all(node[0] != item[0] for item in open)\n",
        "                 and all(node[0] != item[0] for item in close)]\n",
        "        print('Updated open before sorting:', open)\n",
        "        # Sort open by the sum of cost and heuristic\n",
        "        open.sort(key=lambda element: element[1] + element[2])\n",
        "        print('Sorted open:', open)\n",
        "    return [node[0] for node in close]\n",
        "print(astarik_traversal(graph, ['Arad', 0, 366], 'Bucharest'))\n"
      ]
    }
  ]
}
